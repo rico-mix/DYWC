{
 "cells": [
  {
   "cell_type": "code",
   "execution_count": 1,
   "metadata": {},
   "outputs": [
    {
     "ename": "FileNotFoundError",
     "evalue": "[Errno 2] No such file or directory: 'Directory to input files (TSV3)'",
     "output_type": "error",
     "traceback": [
      "\u001b[0;31m---------------------------------------------------------------------------\u001b[0m",
      "\u001b[0;31mFileNotFoundError\u001b[0m                         Traceback (most recent call last)",
      "\u001b[0;32m<ipython-input-1-45f0f82c17ba>\u001b[0m in \u001b[0;36m<module>\u001b[0;34m\u001b[0m\n\u001b[1;32m     35\u001b[0m \u001b[0mcollection\u001b[0m \u001b[0;34m=\u001b[0m \u001b[0mNIFCollection\u001b[0m\u001b[0;34m(\u001b[0m\u001b[0muri\u001b[0m\u001b[0;34m=\u001b[0m\u001b[0;34mf\"http://kit.edu/{dataset}/{knowledge_base}\"\u001b[0m\u001b[0;34m)\u001b[0m\u001b[0;34m\u001b[0m\u001b[0;34m\u001b[0m\u001b[0m\n\u001b[1;32m     36\u001b[0m \u001b[0;34m\u001b[0m\u001b[0m\n\u001b[0;32m---> 37\u001b[0;31m \u001b[0;32mfor\u001b[0m \u001b[0mfiles\u001b[0m \u001b[0;32min\u001b[0m \u001b[0msorted\u001b[0m\u001b[0;34m(\u001b[0m\u001b[0;34m[\u001b[0m\u001b[0mf\u001b[0m \u001b[0;32mfor\u001b[0m \u001b[0mf\u001b[0m \u001b[0;32min\u001b[0m \u001b[0mos\u001b[0m\u001b[0;34m.\u001b[0m\u001b[0mlistdir\u001b[0m\u001b[0;34m(\u001b[0m\u001b[0mdirectory\u001b[0m\u001b[0;34m)\u001b[0m\u001b[0;34m]\u001b[0m\u001b[0;34m)\u001b[0m\u001b[0;34m:\u001b[0m\u001b[0;34m\u001b[0m\u001b[0;34m\u001b[0m\u001b[0m\n\u001b[0m\u001b[1;32m     38\u001b[0m     \u001b[0;32mif\u001b[0m \u001b[0;32mnot\u001b[0m \u001b[0mstr\u001b[0m\u001b[0;34m(\u001b[0m\u001b[0mfiles\u001b[0m\u001b[0;34m)\u001b[0m\u001b[0;34m.\u001b[0m\u001b[0mendswith\u001b[0m\u001b[0;34m(\u001b[0m\u001b[0;34m\".DS_Store\"\u001b[0m\u001b[0;34m)\u001b[0m\u001b[0;34m:\u001b[0m\u001b[0;34m\u001b[0m\u001b[0;34m\u001b[0m\u001b[0m\n\u001b[1;32m     39\u001b[0m         \u001b[0;32mwith\u001b[0m \u001b[0mopen\u001b[0m\u001b[0;34m(\u001b[0m\u001b[0mdirectory\u001b[0m \u001b[0;34m+\u001b[0m \u001b[0;34m\"/\"\u001b[0m \u001b[0;34m+\u001b[0m \u001b[0mfiles\u001b[0m \u001b[0;34m+\u001b[0m \u001b[0;34m\"/admin.tsv\"\u001b[0m\u001b[0;34m)\u001b[0m \u001b[0;32mas\u001b[0m \u001b[0mf\u001b[0m\u001b[0;34m:\u001b[0m\u001b[0;34m\u001b[0m\u001b[0;34m\u001b[0m\u001b[0m\n",
      "\u001b[0;31mFileNotFoundError\u001b[0m: [Errno 2] No such file or directory: 'Directory to input files (TSV3)'"
     ]
    }
   ],
   "source": [
    "from pynif import NIFCollection\n",
    "import os\n",
    "import re\n",
    "\n",
    "\n",
    "def compare_next_line(lines: list, link: str, number: int) -> int:\n",
    "    no_next_line = False\n",
    "    try:\n",
    "        lines[number+1]\n",
    "    except IndexError:\n",
    "        no_next_line = True\n",
    "\n",
    "    if no_next_line:\n",
    "        if lines[number].split(\"\\t\")[3].rstrip() == link:\n",
    "            return number\n",
    "        else:\n",
    "            return number - 1\n",
    "    else:\n",
    "        if lines[number+1].split(\"\\t\")[3].rstrip() != link:\n",
    "            return number\n",
    "        else:\n",
    "            return compare_next_line(lines, link, number+1)\n",
    "\n",
    "\n",
    "def find_text(lines: list) -> int:\n",
    "    for i, line in enumerate(lines):\n",
    "        if line.startswith(\"#Text\"):\n",
    "            return(i)\n",
    "\n",
    "\n",
    "dataset = \"Name of the data set\"\n",
    "knowledge_base = \"Name of knowledge base\"\n",
    "directory = \"Directory to input files (TSV3)\"\n",
    "\n",
    "collection = NIFCollection(uri=f\"http://kit.edu/{dataset}/{knowledge_base}\")\n",
    "\n",
    "for files in sorted([f for f in os.listdir(directory)]):\n",
    "    if not str(files).endswith(\".DS_Store\"):\n",
    "        with open(directory + \"/\" + files + \"/admin.tsv\") as f:\n",
    "            lines = f.readlines()\n",
    "            text_line_number = find_text(lines)\n",
    "\n",
    "            context = collection.add_context(\n",
    "                uri=f\"http://kit.edu/{dataset}/{knowledge_base}/{files}\", mention=lines[text_line_number].replace(\"#Text=\", \"\").rstrip())\n",
    "\n",
    "            previous_link = \"\"\n",
    "\n",
    "            for i, line in enumerate(lines):\n",
    "                if i > text_line_number:\n",
    "                    link = line.split(\"\\t\")[3].rstrip()\n",
    "                    link_cleaned = re.sub(\n",
    "                        r\"\\[[0-9]+\\]\", \"\", link.strip()).lstrip(\"<\").rstrip(\">\").replace(\"\\\\\", \"\")\n",
    "\n",
    "                    if link != \"_\" and link.strip() != \"\" and link != previous_link:\n",
    "                        entity = line.split(\"\\t\")[2]\n",
    "                        entity_lines = compare_next_line(lines, link, i) - i\n",
    "                        entity_begin = int(line.split(\"\\t\")[1].split(\"-\")[0])\n",
    "                        entity_end = int(lines[compare_next_line(\n",
    "                            lines, link, i)].split(\"\\t\")[1].split(\"-\")[1])\n",
    "                        context.add_phrase(beginIndex=entity_begin, endIndex=entity_end,\n",
    "                                           annotator=\"http://kit.edu/agnos\", taIdentRef=link_cleaned)\n",
    "                        previous_link = link\n",
    "\n",
    "nif_file = collection.dumps(format=\"turtle\")\n",
    "\n",
    "with open(f\"{dataset}_{knowledge_base}_output.ttl\", \"w\") as outp:\n",
    "    outp.write(nif_file)"
   ]
  }
 ],
 "metadata": {
  "kernelspec": {
   "display_name": "Python 3",
   "language": "python",
   "name": "python3"
  },
  "language_info": {
   "codemirror_mode": {
    "name": "ipython",
    "version": 3
   },
   "file_extension": ".py",
   "mimetype": "text/x-python",
   "name": "python",
   "nbconvert_exporter": "python",
   "pygments_lexer": "ipython3",
   "version": "3.7.4"
  }
 },
 "nbformat": 4,
 "nbformat_minor": 2
}
